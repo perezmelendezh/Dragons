{
 "cells": [
  {
   "cell_type": "code",
   "execution_count": 13,
   "id": "2522c4a1",
   "metadata": {},
   "outputs": [
    {
     "name": "stdout",
     "output_type": "stream",
     "text": [
      "7724950359432660100\n"
     ]
    }
   ],
   "source": [
    "#This is the most heinous math problem i can think of\n",
    "print((100**5)+(13048730*213)**2)\n",
    "#this number represents how many hours i've been in muffit to pass my midterms"
   ]
  },
  {
   "cell_type": "code",
   "execution_count": null,
   "id": "3fb478ea",
   "metadata": {},
   "outputs": [],
   "source": []
  },
  {
   "cell_type": "code",
   "execution_count": null,
   "id": "7113756a",
   "metadata": {},
   "outputs": [],
   "source": []
  }
 ],
 "metadata": {
  "kernelspec": {
   "display_name": "Python 3 (ipykernel)",
   "language": "python",
   "name": "python3"
  },
  "language_info": {
   "codemirror_mode": {
    "name": "ipython",
    "version": 3
   },
   "file_extension": ".py",
   "mimetype": "text/x-python",
   "name": "python",
   "nbconvert_exporter": "python",
   "pygments_lexer": "ipython3",
   "version": "3.11.4"
  }
 },
 "nbformat": 4,
 "nbformat_minor": 5
}
